{
 "cells": [
  {
   "cell_type": "markdown",
   "metadata": {},
   "source": [
    "# Lab 1\n",
    "---\n",
    "- ### Intro to Programming\n",
    "- ### CMPT 120\n",
    "- ### Due: 02/09/2022 by Midnight\n",
    "\n",
    "\n",
    "There are quite a few tools that we’ll need to get started this semester. This first assignment will be all about getting set up. This is a task in itself when we’re just getting started.\n",
    "\n",
    "Complete these objectives:\n",
    "- Sign up for an account at [GitHub's Website](https://github.com)  \n",
    "    - This is what we’re going to use to store all of our code for the semester.  \n",
    "    - Our course repository is here: [Course Repo](https://github.com/AKippins/CMPT-120L-902-21S)  \n",
    "    - You’ll want to fork this repository (The site should look like this. The fork button is in the upper right) [Instructions on Forking a Repo](https://docs.github.com/en/github/getting-started-with-github/fork-a-repo)\n",
    "\n",
    "![GitHub Repo](../../Assets/Images/GitHubRepo.png)  \n",
    "\n",
    "- You’ll also need to get Python installed on your machines. [We're going to do all of that using something called Miniconda](https://docs.conda.io/en/latest/miniconda.html#installing)  \n",
    "    - This part SHOULD be easy. I tried to find a simpler method than last semester. So we’re using Conda. Pick your OS and then the Anaconda installer. This should get you Python.  \n",
    "    - We’re looking to see that you can access Python through your Command Line Processor. (Terminal is the default on Mac, Powershell is the default on Windows.) If you type the command `python` (without the ticks) you should get a screen that looks somewhat like this below. If `python` doesn't bring up anything or you see a version `2.7.*` the star being anything, you may need to try to type `python3` If you're on Windows it's possible that it doesn't get added to your PATH (Don't worry if you don't know what that means.) You may need to open the Anaconda Powershell Prompt over just the regular powershell.  \n",
    "\n",
    "![Python Terminal](../../Assets/Images/PythonTerminal.png)  \n",
    "\n",
    "At this point you can type `exit()` (without the ticks) to kill it.  \n",
    "\n",
    "![Python Exit](../../Assets/Images/PythonExit.png)  \n",
    "\n",
    "- Once this is done, from the appropriate form of of command line processor run the command `pip install jupyterlab` (without the ticks) if this doesn’t work try `pip3 install jupyterlab`  \n",
    "\n",
    "- This is what we’re going to be using for the semester instead of slides. I’ll also be making some of your labs come in the form of Jupyter Notebooks. If everything worked you should be able to run the command `jupyter lab` (without the ticks) Your terminal will look like this. A tab may open and that’s ok. You’ll at this point want to press (control + c) at the same time to kill the task  \n",
    "\n",
    "![Terminal Jupyter](../../Assets/Images/TerminalJupyter.png)  \n",
    "\n",
    "- It'll open a browser tab that looks like this as well.  \n",
    "\n",
    "![Browser Jupyter](../../Assets/Images/BrowserJupyter.png)  \n",
    "\n",
    "- Finally you’ll want to install Visual Studio Code which you can get here https://code.visualstudio.com\n",
    "\n",
    "Grading will be based on content, accuracy, thoroughness, and adherence to instructions for credit up to a single homework assignment. This first assignment will be more on the lenient side. In terms of preparation but as time moves forward this will not likely be the case.\n",
    "\n",
    "First submit the assignment by forking the repository to your GitHub account on https://github.com/ under a project named your_username_here/CMPT-120L-201-22S.  Second, on iLearn, submit the assignment with your GitHub username, a link to the project repository, and a screenshot of your command line processor after you’ve run Jupyter Lab.\n"
   ]
  },
  {
   "cell_type": "markdown",
   "metadata": {},
   "source": []
  }
 ],
 "metadata": {
  "interpreter": {
   "hash": "aee8b7b246df8f9039afb4144a1f6fd8d2ca17a180786b69acc140d282b71a49"
  },
  "kernelspec": {
   "display_name": "Java",
   "language": "python",
   "name": "python3"
  },
  "language_info": {
   "name": "python",
   "version": "3.9.7"
  },
  "orig_nbformat": 4
 },
 "nbformat": 4,
 "nbformat_minor": 2
}
